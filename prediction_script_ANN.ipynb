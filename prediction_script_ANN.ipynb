{
 "cells": [
  {
   "cell_type": "code",
   "execution_count": null,
   "metadata": {},
   "outputs": [],
   "source": [
    "import pandas as pd\n",
    "train_df = pd.read_csv(\"train.csv\")\n",
    "test_df = pd.read_csv(\"test.csv\")\n",
    "df = pd.concat([train_df, test_df], ignore_index=True)"
   ]
  },
  {
   "cell_type": "code",
   "execution_count": null,
   "metadata": {},
   "outputs": [],
   "source": [
    "#Explore the basic statistics of the numerical features using the describe() function.\n",
    "df.describe()\n"
   ]
  },
  {
   "cell_type": "code",
   "execution_count": null,
   "metadata": {},
   "outputs": [],
   "source": [
    "# by view the statiscal for numerical features ,\n",
    "# we can detect outliers in the Age, SibSp, Parch, and Fare columns\n",
    "\n",
    "# We can use the IQR (Interquartile Range) method to detect and handle outliers in the Age column \n",
    "# We can define a function to calculate the IQR and the upper and lower bounds,\n",
    "# and then use that function to identify and replace the outliers in the Age column with the median age.\n",
    "\n",
    "def handle_outliers_iqr(column):\n",
    "    Q1 = column.quantile(0.25)\n",
    "    Q3 = column.quantile(0.75)\n",
    "    IQR = Q3 - Q1\n",
    "    lower_bound = Q1 - 1.5 * IQR\n",
    "    upper_bound = Q3 + 1.5 * IQR\n",
    "    column = column.clip(lower_bound, upper_bound)\n",
    "    return column\n",
    "\n",
    "\n",
    "# We can define a function to calculate the upper bound for the SibSp and Parch columns\n",
    "# based on the 99th percentage value, and then use that function to identify and \n",
    "# replace the outliers in those columns with the upper bound.\n",
    "\n",
    "def handle_outliers_upper_bound(column):\n",
    "    upper_bound = column.quantile(0.99)\n",
    "    column = column.clip(upper=upper_bound)\n",
    "    return column\n",
    "\n",
    "\n",
    "\n",
    "\n"
   ]
  },
  {
   "cell_type": "code",
   "execution_count": null,
   "metadata": {},
   "outputs": [],
   "source": [
    "# implemet the previous methods in the colums\n",
    "\n",
    "\n",
    "# will implement the  IQR (Interquartile Range) method  on Age and fare colums\n",
    "\n",
    "df['Age'] = handle_outliers_iqr(df['Age'])\n",
    "df['Fare'] = handle_outliers_iqr(df['Fare'])\n",
    "\n",
    "\n",
    "# will implement upper bound method in the he SibSp and Parch columns\n",
    "\n",
    "\n",
    "df['SibSp'] = handle_outliers_upper_bound(df['SibSp'])\n",
    "df['Parch'] = handle_outliers_upper_bound(df['Parch'])\n",
    "\n"
   ]
  },
  {
   "cell_type": "code",
   "execution_count": null,
   "metadata": {},
   "outputs": [],
   "source": [
    "import matplotlib.pyplot as plt\n",
    "\n",
    "# Visualize the distribution of numerical features\n",
    "df.hist(bins=10, figsize=(20,15))\n",
    "plt.show()"
   ]
  },
  {
   "cell_type": "code",
   "execution_count": null,
   "metadata": {},
   "outputs": [],
   "source": [
    "#Handle missing values by either dropping the \n",
    "# rows with missing values or filling them with appropriate values.\n",
    "\n",
    "# Dropping the Cabin column since it has a lot of missing values\n",
    "df.drop('Cabin', axis=1, inplace=True)\n",
    "\n",
    "# Filling the missing values in the Age column with the median age\n",
    "df['Age'].fillna(df['Age'].median(), inplace=True)\n",
    "\n",
    "# Filling the missing values in the Fare column with the median fare\n",
    "df['Fare'].fillna(df['Fare'].median(), inplace=True)\n",
    "\n",
    "# Filling the missing values in the Embarked column with the most common value\n",
    "df['Embarked'].fillna(df['Embarked'].mode()[0], inplace=True)"
   ]
  },
  {
   "cell_type": "code",
   "execution_count": null,
   "metadata": {},
   "outputs": [],
   "source": [
    "# Convert the Sex column to numerical values\n",
    "df['Sex'] = df['Sex'].map({'female': 0, 'male': 1})\n",
    "\n",
    "# Convert the Embarked column to numerical values\n",
    "df['Embarked'] = df['Embarked'].map({'S': 0, 'C': 1, 'Q': 2})"
   ]
  },
  {
   "cell_type": "code",
   "execution_count": null,
   "metadata": {},
   "outputs": [],
   "source": [
    "#check if there is any missing values in the dataset \n",
    "\n",
    "df.isnull().sum()"
   ]
  },
  {
   "cell_type": "code",
   "execution_count": null,
   "metadata": {},
   "outputs": [],
   "source": [
    "\n",
    "\n",
    "\n",
    "\n",
    "\n"
   ]
  },
  {
   "cell_type": "code",
   "execution_count": null,
   "metadata": {},
   "outputs": [],
   "source": [
    "\n"
   ]
  },
  {
   "cell_type": "code",
   "execution_count": null,
   "metadata": {},
   "outputs": [],
   "source": []
  }
 ],
 "metadata": {
  "kernelspec": {
   "display_name": "base",
   "language": "python",
   "name": "python3"
  },
  "language_info": {
   "codemirror_mode": {
    "name": "ipython",
    "version": 3
   },
   "file_extension": ".py",
   "mimetype": "text/x-python",
   "name": "python",
   "nbconvert_exporter": "python",
   "pygments_lexer": "ipython3",
   "version": "3.9.13"
  },
  "orig_nbformat": 4
 },
 "nbformat": 4,
 "nbformat_minor": 2
}

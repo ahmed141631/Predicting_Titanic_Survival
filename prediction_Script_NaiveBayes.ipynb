{
 "cells": [
  {
   "cell_type": "code",
   "execution_count": null,
   "metadata": {},
   "outputs": [],
   "source": [
    "import pandas as pd\n",
    "import numpy as np\n",
    "from sklearn.naive_bayes import GaussianNB\n",
    "from sklearn.model_selection import train_test_split, cross_val_score\n",
    "from sklearn.preprocessing import StandardScaler\n",
    "from sklearn.metrics import accuracy_score\n",
    "\n",
    "# Load the data\n",
    "train_df = pd.read_csv(\"train.csv\")\n",
    "test_df = pd.read_csv(\"test.csv\")\n",
    "\n",
    "# Split the data into features and labels\n",
    "X_train = train_df.drop(['Survived', 'PassengerId', 'Name', 'Ticket', 'Cabin'], axis=1)\n",
    "y_train = train_df['Survived']\n",
    "X_test = test_df.drop(['PassengerId', 'Name', 'Ticket', 'Cabin'], axis=1)\n",
    "\n",
    "# Preprocess the data  EDA\n",
    "X_train['Age'] = X_train['Age'].fillna(X_train['Age'].median())\n",
    "X_train['Fare'] = X_train['Fare'].fillna(X_train['Fare'].median())\n",
    "X_train['Embarked'] = X_train['Embarked'].fillna(X_train['Embarked'].mode()[0])\n",
    "X_train['Sex'] = X_train['Sex'].map({'female': 0, 'male': 1})\n",
    "X_train['Embarked'] = X_train['Embarked'].map({'S': 0, 'C': 1, 'Q': 2})\n",
    "\n",
    "X_test['Age'] = X_test['Age'].fillna(X_test['Age'].median())\n",
    "X_test['Fare'] = X_test['Fare'].fillna(X_test['Fare'].median())\n",
    "X_test['Embarked'] = X_test['Embarked'].fillna(X_test['Embarked'].mode()[0])\n",
    "X_test['Sex'] = X_test['Sex'].map({'female': 0, 'male': 1})\n",
    "X_test['Embarked'] = X_test['Embarked'].map({'S': 0, 'C': 1, 'Q': 2})\n",
    "\n"
   ]
  },
  {
   "cell_type": "code",
   "execution_count": null,
   "metadata": {},
   "outputs": [],
   "source": [
    "# Scale the data\n",
    "scaler = StandardScaler()\n",
    "X_train_scaled = scaler.fit_transform(X_train)\n",
    "X_test_scaled = scaler.transform(X_test)\n",
    "\n",
    "# Split the training data into training and validation sets\n",
    "X_train_split, X_valid_split, y_train_split, y_valid_split = train_test_split(X_train_scaled, y_train, test_size=0.2, random_state=42)\n",
    "\n",
    "# Train the Naive Bayes model using cross-validation\n",
    "model = GaussianNB()\n",
    "scores = cross_val_score(model, X_train_scaled, y_train, cv=5)\n",
    "print('Cross-validation scores:', scores)\n",
    "print('Mean cross-validation score:', np.mean(scores))\n",
    "\n",
    "# Train the Naive Bayes model on the training set\n",
    "model.fit(X_train_split, y_train_split)\n",
    "\n",
    "# Evaluate the model on the validation set\n",
    "y_pred_valid = model.predict(X_valid_split)\n",
    "valid_acc = accuracy_score(y_valid_split, y_pred_valid)\n",
    "print('Validation accuracy:', valid_acc)\n",
    "\n",
    "# Apply the trained model to the test set for predictions\n",
    "y_pred = model.predict(X_test_scaled)\n",
    "test_df['Survived'] = y_pred\n",
    "\n",
    "\n",
    "test_df['Survived']"
   ]
  }
 ],
 "metadata": {
  "kernelspec": {
   "display_name": "base",
   "language": "python",
   "name": "python3"
  },
  "language_info": {
   "codemirror_mode": {
    "name": "ipython",
    "version": 3
   },
   "file_extension": ".py",
   "mimetype": "text/x-python",
   "name": "python",
   "nbconvert_exporter": "python",
   "pygments_lexer": "ipython3",
   "version": "3.9.13"
  },
  "orig_nbformat": 4
 },
 "nbformat": 4,
 "nbformat_minor": 2
}
